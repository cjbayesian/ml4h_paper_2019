{
 "cells": [
  {
   "cell_type": "code",
   "execution_count": 1,
   "metadata": {},
   "outputs": [],
   "source": [
    "import json\n",
    "import requests\n",
    "import os"
   ]
  },
  {
   "cell_type": "code",
   "execution_count": 2,
   "metadata": {},
   "outputs": [],
   "source": [
    "base_url = \"https://papers.nips.cc\""
   ]
  },
  {
   "cell_type": "code",
   "execution_count": 3,
   "metadata": {},
   "outputs": [],
   "source": [
    "with open('data/NeurIPS2018/metadata/NeurIPS_Proceedings_Metadata.json','r') as f:\n",
    "    papers = json.load(f)"
   ]
  },
  {
   "cell_type": "code",
   "execution_count": 4,
   "metadata": {},
   "outputs": [],
   "source": [
    "def download_pdf(paper):\n",
    "    success = True\n",
    "    try:\n",
    "        pdf_url = base_url + paper['pdf_link']\n",
    "        file_name = pdf_url.rsplit('/', 1)[1]\n",
    "        path = os.path.join('pdfs', file_name)\n",
    "\n",
    "        r = requests.get(pdf_url, allow_redirects=True)\n",
    "        with open(path, 'wb') as f:\n",
    "            f.write(r.content)\n",
    "    except:\n",
    "        success = False\n",
    "    paper['downloaded'] = success"
   ]
  },
  {
   "cell_type": "code",
   "execution_count": 5,
   "metadata": {},
   "outputs": [],
   "source": [
    "for p in papers:\n",
    "    download_pdf(p)"
   ]
  },
  {
   "cell_type": "code",
   "execution_count": 7,
   "metadata": {},
   "outputs": [],
   "source": [
    "with open('data/NeurIPS2018/metadata/NeurIPS_Proceedings_Metadata_dlstatus.json','w') as f:\n",
    "    json.dump(papers, f)"
   ]
  },
  {
   "cell_type": "code",
   "execution_count": 8,
   "metadata": {},
   "outputs": [
    {
     "data": {
      "text/plain": [
       "[{'paper_link': '/',\n",
       "  'paper_title': 'Books',\n",
       "  'paper_authors': [],\n",
       "  'pdf_link': None,\n",
       "  'abstract_txt': None,\n",
       "  'supplemental_link': None,\n",
       "  'event_type': None,\n",
       "  'downloaded': False}]"
      ]
     },
     "execution_count": 8,
     "metadata": {},
     "output_type": "execute_result"
    }
   ],
   "source": [
    "[p for p in papers if not p.get('downloaded',False)]"
   ]
  },
  {
   "cell_type": "code",
   "execution_count": null,
   "metadata": {},
   "outputs": [],
   "source": []
  }
 ],
 "metadata": {
  "kernelspec": {
   "display_name": "Python 3",
   "language": "python",
   "name": "python3"
  },
  "language_info": {
   "codemirror_mode": {
    "name": "ipython",
    "version": 3
   },
   "file_extension": ".py",
   "mimetype": "text/x-python",
   "name": "python",
   "nbconvert_exporter": "python",
   "pygments_lexer": "ipython3",
   "version": "3.7.2"
  }
 },
 "nbformat": 4,
 "nbformat_minor": 2
}
