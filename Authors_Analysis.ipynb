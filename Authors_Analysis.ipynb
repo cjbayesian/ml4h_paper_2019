{
 "cells": [
  {
   "cell_type": "code",
   "execution_count": 229,
   "metadata": {},
   "outputs": [],
   "source": [
    "import pandas as pd\n",
    "import json"
   ]
  },
  {
   "cell_type": "code",
   "execution_count": 230,
   "metadata": {},
   "outputs": [],
   "source": [
    "df1 = pd.read_csv('data/ml4h_accepted_authors.csv')"
   ]
  },
  {
   "cell_type": "code",
   "execution_count": 231,
   "metadata": {},
   "outputs": [
    {
     "data": {
      "text/html": [
       "<div>\n",
       "<style scoped>\n",
       "    .dataframe tbody tr th:only-of-type {\n",
       "        vertical-align: middle;\n",
       "    }\n",
       "\n",
       "    .dataframe tbody tr th {\n",
       "        vertical-align: top;\n",
       "    }\n",
       "\n",
       "    .dataframe thead th {\n",
       "        text-align: right;\n",
       "    }\n",
       "</style>\n",
       "<table border=\"1\" class=\"dataframe\">\n",
       "  <thead>\n",
       "    <tr style=\"text-align: right;\">\n",
       "      <th></th>\n",
       "      <th>paperNum</th>\n",
       "      <th>Name</th>\n",
       "      <th>Email</th>\n",
       "      <th>Country</th>\n",
       "      <th>Affiliation</th>\n",
       "    </tr>\n",
       "  </thead>\n",
       "  <tbody>\n",
       "    <tr>\n",
       "      <th>0</th>\n",
       "      <td>3</td>\n",
       "      <td>Albert Haque</td>\n",
       "      <td>ahaque@cs.stanford.edu</td>\n",
       "      <td>United States</td>\n",
       "      <td>Stanford University</td>\n",
       "    </tr>\n",
       "    <tr>\n",
       "      <th>1</th>\n",
       "      <td>3</td>\n",
       "      <td>Corinna Fukushima</td>\n",
       "      <td>corinna_m_fukushima@rush.edu</td>\n",
       "      <td>United States</td>\n",
       "      <td>Rush University Medical Center</td>\n",
       "    </tr>\n",
       "    <tr>\n",
       "      <th>2</th>\n",
       "      <td>4</td>\n",
       "      <td>Luke O'Connor</td>\n",
       "      <td>loconnor@g.harvard.edu</td>\n",
       "      <td>United States</td>\n",
       "      <td>Harvard Chan School of Public Health</td>\n",
       "    </tr>\n",
       "    <tr>\n",
       "      <th>3</th>\n",
       "      <td>4</td>\n",
       "      <td>Alkes Price</td>\n",
       "      <td>aprice@hsph.harvard.edu</td>\n",
       "      <td>United States</td>\n",
       "      <td>Harvard Chan School of Public Health</td>\n",
       "    </tr>\n",
       "    <tr>\n",
       "      <th>4</th>\n",
       "      <td>5</td>\n",
       "      <td>Xu Chen</td>\n",
       "      <td>Xu.Chen@sas.com</td>\n",
       "      <td>United States</td>\n",
       "      <td>SAS Inc</td>\n",
       "    </tr>\n",
       "  </tbody>\n",
       "</table>\n",
       "</div>"
      ],
      "text/plain": [
       "   paperNum               Name                         Email        Country  \\\n",
       "0         3       Albert Haque        ahaque@cs.stanford.edu  United States   \n",
       "1         3  Corinna Fukushima  corinna_m_fukushima@rush.edu  United States   \n",
       "2         4      Luke O'Connor        loconnor@g.harvard.edu  United States   \n",
       "3         4        Alkes Price       aprice@hsph.harvard.edu  United States   \n",
       "4         5            Xu Chen               Xu.Chen@sas.com  United States   \n",
       "\n",
       "                            Affiliation  \n",
       "0                   Stanford University  \n",
       "1        Rush University Medical Center  \n",
       "2  Harvard Chan School of Public Health  \n",
       "3  Harvard Chan School of Public Health  \n",
       "4                               SAS Inc  "
      ]
     },
     "execution_count": 231,
     "metadata": {},
     "output_type": "execute_result"
    }
   ],
   "source": [
    "df1.head()"
   ]
  },
  {
   "cell_type": "code",
   "execution_count": 232,
   "metadata": {},
   "outputs": [
    {
     "data": {
      "text/html": [
       "<div>\n",
       "<style scoped>\n",
       "    .dataframe tbody tr th:only-of-type {\n",
       "        vertical-align: middle;\n",
       "    }\n",
       "\n",
       "    .dataframe tbody tr th {\n",
       "        vertical-align: top;\n",
       "    }\n",
       "\n",
       "    .dataframe thead th {\n",
       "        text-align: right;\n",
       "    }\n",
       "</style>\n",
       "<table border=\"1\" class=\"dataframe\">\n",
       "  <thead>\n",
       "    <tr style=\"text-align: right;\">\n",
       "      <th></th>\n",
       "      <th>paperNum</th>\n",
       "      <th>Name</th>\n",
       "      <th>Title</th>\n",
       "      <th>Decision</th>\n",
       "    </tr>\n",
       "  </thead>\n",
       "  <tbody>\n",
       "    <tr>\n",
       "      <th>0</th>\n",
       "      <td>3</td>\n",
       "      <td>Albert Haque and Corinna Fukushima</td>\n",
       "      <td>Automatic Documentation of ICD Codes with Far-...</td>\n",
       "      <td>poster</td>\n",
       "    </tr>\n",
       "    <tr>\n",
       "      <th>1</th>\n",
       "      <td>4</td>\n",
       "      <td>Luke O'Connor and Alkes Price</td>\n",
       "      <td>Distinguishing correlation from causation usin...</td>\n",
       "      <td>poster</td>\n",
       "    </tr>\n",
       "    <tr>\n",
       "      <th>2</th>\n",
       "      <td>5</td>\n",
       "      <td>Xu Chen and Saratendu Sethi</td>\n",
       "      <td>Robust Active Learning for Electrocardiographi...</td>\n",
       "      <td>digital</td>\n",
       "    </tr>\n",
       "    <tr>\n",
       "      <th>3</th>\n",
       "      <td>7</td>\n",
       "      <td>Viraj Uday Prabhu and Anitha Kannan</td>\n",
       "      <td>Prototypical Clustering Networks for Dermatolo...</td>\n",
       "      <td>poster</td>\n",
       "    </tr>\n",
       "    <tr>\n",
       "      <th>4</th>\n",
       "      <td>9</td>\n",
       "      <td>Albert Haque, Michelle Guo, Adam Miner and Li ...</td>\n",
       "      <td>Measuring the Severity of Depressive Symptoms ...</td>\n",
       "      <td>poster</td>\n",
       "    </tr>\n",
       "  </tbody>\n",
       "</table>\n",
       "</div>"
      ],
      "text/plain": [
       "   paperNum                                               Name  \\\n",
       "0         3                 Albert Haque and Corinna Fukushima   \n",
       "1         4                      Luke O'Connor and Alkes Price   \n",
       "2         5                        Xu Chen and Saratendu Sethi   \n",
       "3         7                Viraj Uday Prabhu and Anitha Kannan   \n",
       "4         9  Albert Haque, Michelle Guo, Adam Miner and Li ...   \n",
       "\n",
       "                                               Title Decision  \n",
       "0  Automatic Documentation of ICD Codes with Far-...   poster  \n",
       "1  Distinguishing correlation from causation usin...   poster  \n",
       "2  Robust Active Learning for Electrocardiographi...  digital  \n",
       "3  Prototypical Clustering Networks for Dermatolo...   poster  \n",
       "4  Measuring the Severity of Depressive Symptoms ...   poster  "
      ]
     },
     "execution_count": 232,
     "metadata": {},
     "output_type": "execute_result"
    }
   ],
   "source": [
    "df2 = pd.read_csv('data/ml4h_accepted_papers_reformat.csv')\n",
    "df2.head()"
   ]
  },
  {
   "cell_type": "code",
   "execution_count": 233,
   "metadata": {},
   "outputs": [],
   "source": [
    "df3 = df1.merge(df2, on='paperNum')"
   ]
  },
  {
   "cell_type": "code",
   "execution_count": 234,
   "metadata": {},
   "outputs": [],
   "source": [
    "df3 = df3[df3['Decision'] == 'poster']"
   ]
  },
  {
   "cell_type": "code",
   "execution_count": 235,
   "metadata": {},
   "outputs": [
    {
     "name": "stdout",
     "output_type": "stream",
     "text": [
      "348 authors\n",
      "322 unique authors\n"
     ]
    }
   ],
   "source": [
    "print len(df3), 'authors'\n",
    "print len(df3['Name_x'].unique()), 'unique authors'"
   ]
  },
  {
   "cell_type": "code",
   "execution_count": 236,
   "metadata": {},
   "outputs": [
    {
     "name": "stdout",
     "output_type": "stream",
     "text": [
      "top authors by count\n",
      "John Guttag               4\n",
      "Albert Haque              3\n",
      "Mihaela van der Schaar    3\n",
      "Li Fei-Fei                3\n",
      "Marzyeh Ghassemi          3\n",
      "Adrian Dalca              3\n",
      "Matthias Hüser            2\n",
      "Sendhil Mullainathan      2\n",
      "Jure Leskovec             2\n",
      "Andrew Miller             2\n",
      "Name: Name_x, dtype: int64\n"
     ]
    }
   ],
   "source": [
    "print 'top authors by count'\n",
    "print df3['Name_x'].value_counts().head(10)"
   ]
  },
  {
   "cell_type": "code",
   "execution_count": null,
   "metadata": {},
   "outputs": [],
   "source": []
  },
  {
   "cell_type": "code",
   "execution_count": 237,
   "metadata": {},
   "outputs": [],
   "source": [
    "# source: https://stackoverflow.com/questions/2460177/edit-distance-in-python\n",
    "\n",
    "def levenshteinDistance(s1, s2):\n",
    "    if len(s1) > len(s2):\n",
    "        s1, s2 = s2, s1\n",
    "\n",
    "    distances = range(len(s1) + 1)\n",
    "    for i2, c2 in enumerate(s2):\n",
    "        distances_ = [i2+1]\n",
    "        for i1, c1 in enumerate(s1):\n",
    "            if c1 == c2:\n",
    "                distances_.append(distances[i1])\n",
    "            else:\n",
    "                distances_.append(1 + min((distances[i1], distances[i1 + 1], distances_[-1])))\n",
    "        distances = distances_\n",
    "    return distances[-1]\n"
   ]
  },
  {
   "cell_type": "code",
   "execution_count": 238,
   "metadata": {},
   "outputs": [
    {
     "data": {
      "text/plain": [
       "2"
      ]
     },
     "execution_count": 238,
     "metadata": {},
     "output_type": "execute_result"
    }
   ],
   "source": [
    "levenshteinDistance('cb','abc')"
   ]
  },
  {
   "cell_type": "markdown",
   "metadata": {},
   "source": [
    "# Neurips comparison"
   ]
  },
  {
   "cell_type": "code",
   "execution_count": 239,
   "metadata": {},
   "outputs": [],
   "source": [
    "df = pd.read_csv('data/neurips.csv')"
   ]
  },
  {
   "cell_type": "code",
   "execution_count": 240,
   "metadata": {},
   "outputs": [
    {
     "data": {
      "text/plain": [
       "0                                                   []\n",
       "1    [{'author_name': 'Francis Bach', 'author_link'...\n",
       "2    [{'author_name': 'Jianlong Chang', 'author_lin...\n",
       "3    [{'author_name': 'Guangrun Wang', 'author_link...\n",
       "4    [{'author_name': 'Constantinos Daskalakis', 'a...\n",
       "Name: paper_authors, dtype: object"
      ]
     },
     "execution_count": 240,
     "metadata": {},
     "output_type": "execute_result"
    }
   ],
   "source": [
    "df['paper_authors'].head()"
   ]
  },
  {
   "cell_type": "code",
   "execution_count": 241,
   "metadata": {},
   "outputs": [
    {
     "data": {
      "text/plain": [
       "{}"
      ]
     },
     "execution_count": 241,
     "metadata": {},
     "output_type": "execute_result"
    }
   ],
   "source": [
    "dict()"
   ]
  },
  {
   "cell_type": "code",
   "execution_count": 242,
   "metadata": {},
   "outputs": [],
   "source": [
    "x = df['paper_authors'].iloc[1]"
   ]
  },
  {
   "cell_type": "code",
   "execution_count": 243,
   "metadata": {},
   "outputs": [],
   "source": [
    "import ast\n",
    "df['paper_authors_lst'] = df['paper_authors'].apply(lambda x: ast.literal_eval(x))"
   ]
  },
  {
   "cell_type": "code",
   "execution_count": 244,
   "metadata": {},
   "outputs": [
    {
     "data": {
      "text/html": [
       "<div>\n",
       "<style scoped>\n",
       "    .dataframe tbody tr th:only-of-type {\n",
       "        vertical-align: middle;\n",
       "    }\n",
       "\n",
       "    .dataframe tbody tr th {\n",
       "        vertical-align: top;\n",
       "    }\n",
       "\n",
       "    .dataframe thead th {\n",
       "        text-align: right;\n",
       "    }\n",
       "</style>\n",
       "<table border=\"1\" class=\"dataframe\">\n",
       "  <thead>\n",
       "    <tr style=\"text-align: right;\">\n",
       "      <th></th>\n",
       "      <th>abstract_txt</th>\n",
       "      <th>event_type</th>\n",
       "      <th>paper_authors</th>\n",
       "      <th>paper_link</th>\n",
       "      <th>paper_title</th>\n",
       "      <th>pdf_link</th>\n",
       "      <th>supplemental_link</th>\n",
       "      <th>paper_authors_lst</th>\n",
       "    </tr>\n",
       "  </thead>\n",
       "  <tbody>\n",
       "    <tr>\n",
       "      <th>0</th>\n",
       "      <td>NaN</td>\n",
       "      <td>NaN</td>\n",
       "      <td>[]</td>\n",
       "      <td>/</td>\n",
       "      <td>Books</td>\n",
       "      <td>NaN</td>\n",
       "      <td>NaN</td>\n",
       "      <td>[]</td>\n",
       "    </tr>\n",
       "    <tr>\n",
       "      <th>1</th>\n",
       "      <td>We consider the minimization of submodular fun...</td>\n",
       "      <td>Poster</td>\n",
       "      <td>[{'author_name': 'Francis Bach', 'author_link'...</td>\n",
       "      <td>/paper/7286-efficient-algorithms-for-non-conve...</td>\n",
       "      <td>Efficient Algorithms for Non-convex Isotonic R...</td>\n",
       "      <td>/paper/7286-efficient-algorithms-for-non-conve...</td>\n",
       "      <td>/paper/7286-efficient-algorithms-for-non-conve...</td>\n",
       "      <td>[{u'author_name': u'Francis Bach', u'author_li...</td>\n",
       "    </tr>\n",
       "    <tr>\n",
       "      <th>2</th>\n",
       "      <td>Convolutional neural networks (CNNs) are inher...</td>\n",
       "      <td>Poster</td>\n",
       "      <td>[{'author_name': 'Jianlong Chang', 'author_lin...</td>\n",
       "      <td>/paper/7287-structure-aware-convolutional-neur...</td>\n",
       "      <td>Structure-Aware Convolutional Neural Networks</td>\n",
       "      <td>/paper/7287-structure-aware-convolutional-neur...</td>\n",
       "      <td>/paper/7287-structure-aware-convolutional-neur...</td>\n",
       "      <td>[{u'author_name': u'Jianlong Chang', u'author_...</td>\n",
       "    </tr>\n",
       "    <tr>\n",
       "      <th>3</th>\n",
       "      <td>As an indispensable component, Batch Normaliza...</td>\n",
       "      <td>Poster</td>\n",
       "      <td>[{'author_name': 'Guangrun Wang', 'author_link...</td>\n",
       "      <td>/paper/7288-kalman-normalization-normalizing-i...</td>\n",
       "      <td>Kalman Normalization: Normalizing Internal Rep...</td>\n",
       "      <td>/paper/7288-kalman-normalization-normalizing-i...</td>\n",
       "      <td>/paper/7288-kalman-normalization-normalizing-i...</td>\n",
       "      <td>[{u'author_name': u'Guangrun Wang', u'author_l...</td>\n",
       "    </tr>\n",
       "    <tr>\n",
       "      <th>4</th>\n",
       "      <td>Asynchronous Gibbs sampling has been recently ...</td>\n",
       "      <td>Poster</td>\n",
       "      <td>[{'author_name': 'Constantinos Daskalakis', 'a...</td>\n",
       "      <td>/paper/7289-hogwild-gibbs-can-be-panaccurate</td>\n",
       "      <td>HOGWILD!-Gibbs can be PanAccurate</td>\n",
       "      <td>/paper/7289-hogwild-gibbs-can-be-panaccurate.pdf</td>\n",
       "      <td>/paper/7289-hogwild-gibbs-can-be-panaccurate-s...</td>\n",
       "      <td>[{u'author_name': u'Constantinos Daskalakis', ...</td>\n",
       "    </tr>\n",
       "  </tbody>\n",
       "</table>\n",
       "</div>"
      ],
      "text/plain": [
       "                                        abstract_txt event_type  \\\n",
       "0                                                NaN        NaN   \n",
       "1  We consider the minimization of submodular fun...     Poster   \n",
       "2  Convolutional neural networks (CNNs) are inher...     Poster   \n",
       "3  As an indispensable component, Batch Normaliza...     Poster   \n",
       "4  Asynchronous Gibbs sampling has been recently ...     Poster   \n",
       "\n",
       "                                       paper_authors  \\\n",
       "0                                                 []   \n",
       "1  [{'author_name': 'Francis Bach', 'author_link'...   \n",
       "2  [{'author_name': 'Jianlong Chang', 'author_lin...   \n",
       "3  [{'author_name': 'Guangrun Wang', 'author_link...   \n",
       "4  [{'author_name': 'Constantinos Daskalakis', 'a...   \n",
       "\n",
       "                                          paper_link  \\\n",
       "0                                                  /   \n",
       "1  /paper/7286-efficient-algorithms-for-non-conve...   \n",
       "2  /paper/7287-structure-aware-convolutional-neur...   \n",
       "3  /paper/7288-kalman-normalization-normalizing-i...   \n",
       "4       /paper/7289-hogwild-gibbs-can-be-panaccurate   \n",
       "\n",
       "                                         paper_title  \\\n",
       "0                                              Books   \n",
       "1  Efficient Algorithms for Non-convex Isotonic R...   \n",
       "2      Structure-Aware Convolutional Neural Networks   \n",
       "3  Kalman Normalization: Normalizing Internal Rep...   \n",
       "4                  HOGWILD!-Gibbs can be PanAccurate   \n",
       "\n",
       "                                            pdf_link  \\\n",
       "0                                                NaN   \n",
       "1  /paper/7286-efficient-algorithms-for-non-conve...   \n",
       "2  /paper/7287-structure-aware-convolutional-neur...   \n",
       "3  /paper/7288-kalman-normalization-normalizing-i...   \n",
       "4   /paper/7289-hogwild-gibbs-can-be-panaccurate.pdf   \n",
       "\n",
       "                                   supplemental_link  \\\n",
       "0                                                NaN   \n",
       "1  /paper/7286-efficient-algorithms-for-non-conve...   \n",
       "2  /paper/7287-structure-aware-convolutional-neur...   \n",
       "3  /paper/7288-kalman-normalization-normalizing-i...   \n",
       "4  /paper/7289-hogwild-gibbs-can-be-panaccurate-s...   \n",
       "\n",
       "                                   paper_authors_lst  \n",
       "0                                                 []  \n",
       "1  [{u'author_name': u'Francis Bach', u'author_li...  \n",
       "2  [{u'author_name': u'Jianlong Chang', u'author_...  \n",
       "3  [{u'author_name': u'Guangrun Wang', u'author_l...  \n",
       "4  [{u'author_name': u'Constantinos Daskalakis', ...  "
      ]
     },
     "execution_count": 244,
     "metadata": {},
     "output_type": "execute_result"
    }
   ],
   "source": [
    "df.head()"
   ]
  },
  {
   "cell_type": "markdown",
   "metadata": {},
   "source": []
  },
  {
   "cell_type": "code",
   "execution_count": 245,
   "metadata": {},
   "outputs": [],
   "source": [
    "author_names = list()\n",
    "author_links = list()\n",
    "paper_links = list()\n",
    "\n",
    "for index, row in df.iterrows():\n",
    "    paper_authors = row['paper_authors_lst']\n",
    "    paper_link = row['paper_link']\n",
    "    if len(paper_authors) > 0:\n",
    "        for auth in paper_authors:\n",
    "            author_names.append(auth['author_name'])\n",
    "            author_links.append(auth['author_link'])\n",
    "            paper_links.append(paper_link)\n",
    "            \n",
    "neurips_df = pd.DataFrame({'name': author_names, 'author_link': author_links, 'paper':paper_links})"
   ]
  },
  {
   "cell_type": "code",
   "execution_count": 246,
   "metadata": {},
   "outputs": [
    {
     "data": {
      "text/html": [
       "<div>\n",
       "<style scoped>\n",
       "    .dataframe tbody tr th:only-of-type {\n",
       "        vertical-align: middle;\n",
       "    }\n",
       "\n",
       "    .dataframe tbody tr th {\n",
       "        vertical-align: top;\n",
       "    }\n",
       "\n",
       "    .dataframe thead th {\n",
       "        text-align: right;\n",
       "    }\n",
       "</style>\n",
       "<table border=\"1\" class=\"dataframe\">\n",
       "  <thead>\n",
       "    <tr style=\"text-align: right;\">\n",
       "      <th></th>\n",
       "      <th>author_link</th>\n",
       "      <th>name</th>\n",
       "      <th>paper</th>\n",
       "    </tr>\n",
       "  </thead>\n",
       "  <tbody>\n",
       "    <tr>\n",
       "      <th>0</th>\n",
       "      <td>/author/francis-bach-6335</td>\n",
       "      <td>Francis Bach</td>\n",
       "      <td>/paper/7286-efficient-algorithms-for-non-conve...</td>\n",
       "    </tr>\n",
       "    <tr>\n",
       "      <th>1</th>\n",
       "      <td>/author/jianlong-chang-10489</td>\n",
       "      <td>Jianlong Chang</td>\n",
       "      <td>/paper/7287-structure-aware-convolutional-neur...</td>\n",
       "    </tr>\n",
       "    <tr>\n",
       "      <th>2</th>\n",
       "      <td>/author/jie-gu-10490</td>\n",
       "      <td>Jie Gu</td>\n",
       "      <td>/paper/7287-structure-aware-convolutional-neur...</td>\n",
       "    </tr>\n",
       "    <tr>\n",
       "      <th>3</th>\n",
       "      <td>/author/lingfeng-wang-10491</td>\n",
       "      <td>Lingfeng Wang</td>\n",
       "      <td>/paper/7287-structure-aware-convolutional-neur...</td>\n",
       "    </tr>\n",
       "    <tr>\n",
       "      <th>4</th>\n",
       "      <td>/author/gaofeng-meng-10492</td>\n",
       "      <td>GAOFENG MENG</td>\n",
       "      <td>/paper/7287-structure-aware-convolutional-neur...</td>\n",
       "    </tr>\n",
       "  </tbody>\n",
       "</table>\n",
       "</div>"
      ],
      "text/plain": [
       "                    author_link            name  \\\n",
       "0     /author/francis-bach-6335    Francis Bach   \n",
       "1  /author/jianlong-chang-10489  Jianlong Chang   \n",
       "2          /author/jie-gu-10490          Jie Gu   \n",
       "3   /author/lingfeng-wang-10491   Lingfeng Wang   \n",
       "4    /author/gaofeng-meng-10492    GAOFENG MENG   \n",
       "\n",
       "                                               paper  \n",
       "0  /paper/7286-efficient-algorithms-for-non-conve...  \n",
       "1  /paper/7287-structure-aware-convolutional-neur...  \n",
       "2  /paper/7287-structure-aware-convolutional-neur...  \n",
       "3  /paper/7287-structure-aware-convolutional-neur...  \n",
       "4  /paper/7287-structure-aware-convolutional-neur...  "
      ]
     },
     "execution_count": 246,
     "metadata": {},
     "output_type": "execute_result"
    }
   ],
   "source": [
    "neurips_df.head()"
   ]
  },
  {
   "cell_type": "code",
   "execution_count": 247,
   "metadata": {},
   "outputs": [
    {
     "data": {
      "text/plain": [
       "Josh Tenenbaum       10\n",
       "Eric P. Xing          8\n",
       "Michael I. Jordan     8\n",
       "Sergey Levine         8\n",
       "Francis Bach          7\n",
       "Tong Zhang            7\n",
       "Masashi Sugiyama      6\n",
       "Mingyuan Zhou         6\n",
       "Honglak Lee           6\n",
       "Stefano Ermon         6\n",
       "Name: name, dtype: int64"
      ]
     },
     "execution_count": 247,
     "metadata": {},
     "output_type": "execute_result"
    }
   ],
   "source": [
    "neurips_df['name'].value_counts().head(10)"
   ]
  },
  {
   "cell_type": "code",
   "execution_count": 248,
   "metadata": {},
   "outputs": [
    {
     "name": "stdout",
     "output_type": "stream",
     "text": [
      "3824 authors\n",
      "3127 unique authors\n"
     ]
    }
   ],
   "source": [
    "print len(neurips_df['name']), 'authors'\n",
    "print len(neurips_df['name'].unique()), 'unique authors'"
   ]
  },
  {
   "cell_type": "markdown",
   "metadata": {},
   "source": [
    "# Overlap btw ML4H and NeurIPS"
   ]
  },
  {
   "cell_type": "code",
   "execution_count": 249,
   "metadata": {},
   "outputs": [
    {
     "data": {
      "text/plain": [
       "'test'"
      ]
     },
     "execution_count": 249,
     "metadata": {},
     "output_type": "execute_result"
    }
   ],
   "source": [
    "'test'.lower()"
   ]
  },
  {
   "cell_type": "code",
   "execution_count": 250,
   "metadata": {},
   "outputs": [],
   "source": [
    "# def intersection(lst1, lst2): \n",
    "#     lst3 = [value for value in lst1 if value in lst2] \n",
    "#     return lst3 \n",
    "\n",
    "def intersection(lst1, lst2): \n",
    "    lst1 = [i.lower() for i in lst1]\n",
    "    lst2 = [i.lower() for i in lst2]\n",
    "    return list(set(lst1) & set(lst2)) \n"
   ]
  },
  {
   "cell_type": "code",
   "execution_count": 251,
   "metadata": {},
   "outputs": [],
   "source": [
    "ml4hneurips_intersect = intersection(neurips_df['name'].values, df3['Name_x'].values)"
   ]
  },
  {
   "cell_type": "code",
   "execution_count": 252,
   "metadata": {},
   "outputs": [
    {
     "name": "stdout",
     "output_type": "stream",
     "text": [
      "3127\n",
      "322\n",
      "20\n"
     ]
    }
   ],
   "source": [
    "print len(neurips_df['name'].unique())\n",
    "print len(df3['Name_x'].unique())\n",
    "print len(ml4hneurips_intersect)"
   ]
  },
  {
   "cell_type": "markdown",
   "metadata": {},
   "source": [
    "## Exploratory questions\n",
    "\n",
    "\n",
    "How many authors for ML4H? Average number of authors? Average number of institutions on one paper?\n",
    "\n",
    "How many authors for NeurIPS? Average number of authors? Average number of institutions on one paper?\n",
    "\n",
    "How many authors have papers in both? For those authors, did the average number of collaborators change for venue?"
   ]
  },
  {
   "cell_type": "code",
   "execution_count": 253,
   "metadata": {},
   "outputs": [
    {
     "data": {
      "text/html": [
       "<div>\n",
       "<style scoped>\n",
       "    .dataframe tbody tr th:only-of-type {\n",
       "        vertical-align: middle;\n",
       "    }\n",
       "\n",
       "    .dataframe tbody tr th {\n",
       "        vertical-align: top;\n",
       "    }\n",
       "\n",
       "    .dataframe thead th {\n",
       "        text-align: right;\n",
       "    }\n",
       "</style>\n",
       "<table border=\"1\" class=\"dataframe\">\n",
       "  <thead>\n",
       "    <tr style=\"text-align: right;\">\n",
       "      <th></th>\n",
       "      <th>paperNum</th>\n",
       "      <th>Name_x</th>\n",
       "      <th>Email</th>\n",
       "      <th>Country</th>\n",
       "      <th>Affiliation</th>\n",
       "      <th>Name_y</th>\n",
       "      <th>Title</th>\n",
       "      <th>Decision</th>\n",
       "    </tr>\n",
       "  </thead>\n",
       "  <tbody>\n",
       "    <tr>\n",
       "      <th>0</th>\n",
       "      <td>3</td>\n",
       "      <td>Albert Haque</td>\n",
       "      <td>ahaque@cs.stanford.edu</td>\n",
       "      <td>United States</td>\n",
       "      <td>Stanford University</td>\n",
       "      <td>Albert Haque and Corinna Fukushima</td>\n",
       "      <td>Automatic Documentation of ICD Codes with Far-...</td>\n",
       "      <td>poster</td>\n",
       "    </tr>\n",
       "    <tr>\n",
       "      <th>1</th>\n",
       "      <td>3</td>\n",
       "      <td>Corinna Fukushima</td>\n",
       "      <td>corinna_m_fukushima@rush.edu</td>\n",
       "      <td>United States</td>\n",
       "      <td>Rush University Medical Center</td>\n",
       "      <td>Albert Haque and Corinna Fukushima</td>\n",
       "      <td>Automatic Documentation of ICD Codes with Far-...</td>\n",
       "      <td>poster</td>\n",
       "    </tr>\n",
       "    <tr>\n",
       "      <th>2</th>\n",
       "      <td>4</td>\n",
       "      <td>Luke O'Connor</td>\n",
       "      <td>loconnor@g.harvard.edu</td>\n",
       "      <td>United States</td>\n",
       "      <td>Harvard Chan School of Public Health</td>\n",
       "      <td>Luke O'Connor and Alkes Price</td>\n",
       "      <td>Distinguishing correlation from causation usin...</td>\n",
       "      <td>poster</td>\n",
       "    </tr>\n",
       "    <tr>\n",
       "      <th>3</th>\n",
       "      <td>4</td>\n",
       "      <td>Alkes Price</td>\n",
       "      <td>aprice@hsph.harvard.edu</td>\n",
       "      <td>United States</td>\n",
       "      <td>Harvard Chan School of Public Health</td>\n",
       "      <td>Luke O'Connor and Alkes Price</td>\n",
       "      <td>Distinguishing correlation from causation usin...</td>\n",
       "      <td>poster</td>\n",
       "    </tr>\n",
       "    <tr>\n",
       "      <th>6</th>\n",
       "      <td>7</td>\n",
       "      <td>Viraj Uday Prabhu</td>\n",
       "      <td>virajp@gatech.edu</td>\n",
       "      <td>United States</td>\n",
       "      <td>Georgia Institute of Technology</td>\n",
       "      <td>Viraj Uday Prabhu and Anitha Kannan</td>\n",
       "      <td>Prototypical Clustering Networks for Dermatolo...</td>\n",
       "      <td>poster</td>\n",
       "    </tr>\n",
       "  </tbody>\n",
       "</table>\n",
       "</div>"
      ],
      "text/plain": [
       "   paperNum             Name_x                         Email        Country  \\\n",
       "0         3       Albert Haque        ahaque@cs.stanford.edu  United States   \n",
       "1         3  Corinna Fukushima  corinna_m_fukushima@rush.edu  United States   \n",
       "2         4      Luke O'Connor        loconnor@g.harvard.edu  United States   \n",
       "3         4        Alkes Price       aprice@hsph.harvard.edu  United States   \n",
       "6         7  Viraj Uday Prabhu             virajp@gatech.edu  United States   \n",
       "\n",
       "                            Affiliation                               Name_y  \\\n",
       "0                   Stanford University   Albert Haque and Corinna Fukushima   \n",
       "1        Rush University Medical Center   Albert Haque and Corinna Fukushima   \n",
       "2  Harvard Chan School of Public Health        Luke O'Connor and Alkes Price   \n",
       "3  Harvard Chan School of Public Health        Luke O'Connor and Alkes Price   \n",
       "6       Georgia Institute of Technology  Viraj Uday Prabhu and Anitha Kannan   \n",
       "\n",
       "                                               Title Decision  \n",
       "0  Automatic Documentation of ICD Codes with Far-...   poster  \n",
       "1  Automatic Documentation of ICD Codes with Far-...   poster  \n",
       "2  Distinguishing correlation from causation usin...   poster  \n",
       "3  Distinguishing correlation from causation usin...   poster  \n",
       "6  Prototypical Clustering Networks for Dermatolo...   poster  "
      ]
     },
     "execution_count": 253,
     "metadata": {},
     "output_type": "execute_result"
    }
   ],
   "source": [
    "df3.head()"
   ]
  },
  {
   "cell_type": "code",
   "execution_count": 254,
   "metadata": {},
   "outputs": [
    {
     "name": "stdout",
     "output_type": "stream",
     "text": [
      "322 authors in ML4H\n",
      "4.35 authors per paper\n",
      "2.26 affiliations per paper\n"
     ]
    }
   ],
   "source": [
    "print len([i.lower() for i in df3['Name_x'].unique()]), 'authors in ML4H'\n",
    "print '%.2f authors per paper' % df3.groupby('paperNum').count()['Name_x'].mean()\n",
    "print '%.2f affiliations per paper' % df3.groupby(['paperNum', 'Affiliation']).count()['Name_x'].mean()"
   ]
  },
  {
   "cell_type": "code",
   "execution_count": 255,
   "metadata": {},
   "outputs": [
    {
     "name": "stdout",
     "output_type": "stream",
     "text": [
      "3127 authors in Neurips\n",
      "3.79 authors per paper\n"
     ]
    }
   ],
   "source": [
    "print len([i.lower() for i in neurips_df['name'].unique()]), 'authors in Neurips'\n",
    "print '%.2f authors per paper' % neurips_df.groupby('paper').count()['name'].mean()\n",
    "# print '%.2f affiliations per paper' % df3.groupby(['paperNum', 'Affiliation']).count()['Name_x'].mean()"
   ]
  },
  {
   "cell_type": "code",
   "execution_count": 256,
   "metadata": {},
   "outputs": [],
   "source": [
    "%matplotlib inline\n",
    "\n",
    "from matplotlib import pyplot as plt\n"
   ]
  },
  {
   "cell_type": "code",
   "execution_count": 257,
   "metadata": {},
   "outputs": [
    {
     "data": {
      "image/png": "[encoded data removed]",
      "text/plain": [
       "<Figure size 432x288 with 1 Axes>"
      ]
     },
     "metadata": {},
     "output_type": "display_data"
    }
   ],
   "source": [
    "plt.hist(neurips_df.groupby('paper').count()['name'],label='NeurIPS', density=True, alpha=0.6, bins=range(1,13))\n",
    "plt.hist(df3.groupby('paperNum').count()['Name_x'], label='ML4H', density=True, alpha=0.6, bins=range(1,13))\n",
    "plt.legend()\n",
    "plt.show()"
   ]
  },
  {
   "cell_type": "code",
   "execution_count": 258,
   "metadata": {},
   "outputs": [],
   "source": [
    "from scipy.stats import ttest_ind"
   ]
  },
  {
   "cell_type": "code",
   "execution_count": 259,
   "metadata": {},
   "outputs": [
    {
     "name": "stdout",
     "output_type": "stream",
     "text": [
      "Ttest_indResult(statistic=2.8099868577146685, pvalue=0.005043316126030703)\n"
     ]
    }
   ],
   "source": [
    "print ttest_ind(df3.groupby('paperNum').count()['Name_x'], neurips_df.groupby('paper').count()['name'])"
   ]
  },
  {
   "cell_type": "code",
   "execution_count": 260,
   "metadata": {},
   "outputs": [],
   "source": [
    "ml4hneurips_intersect = intersection(neurips_df['name'].values, df3['Name_x'].values)"
   ]
  },
  {
   "cell_type": "code",
   "execution_count": 261,
   "metadata": {},
   "outputs": [],
   "source": [
    "# for each person in ml4hneurips_intersect,\n",
    "# get papers in both ml4h and neurips with these authors\n",
    "# get average number of authors on ml4h papers and average number of authors on neurips papers\n",
    "# get average diff "
   ]
  },
  {
   "cell_type": "code",
   "execution_count": 262,
   "metadata": {},
   "outputs": [],
   "source": [
    "int_set = set(ml4hneurips_intersect)"
   ]
  },
  {
   "cell_type": "code",
   "execution_count": 263,
   "metadata": {},
   "outputs": [
    {
     "name": "stdout",
     "output_type": "stream",
     "text": [
      "20\n"
     ]
    }
   ],
   "source": [
    "print len(int_set)"
   ]
  },
  {
   "cell_type": "code",
   "execution_count": 264,
   "metadata": {},
   "outputs": [],
   "source": [
    "ml4h_int = df3[df3['Name_x'].apply(lambda x: x.lower() in int_set)]\n",
    "neurips_int = neurips_df[neurips_df['name'].apply(lambda x: x.lower() in int_set)]\n",
    "\n"
   ]
  },
  {
   "cell_type": "code",
   "execution_count": 265,
   "metadata": {},
   "outputs": [],
   "source": [
    "neurips_avg_authors = neurips_df.groupby('paper').count()[['name']]\n",
    "neurips_avg_authors = neurips_avg_authors.reset_index()\n",
    "int_papers_author_ct = neurips_int.merge(neurips_avg_authors, on='paper')\n",
    "int_papers_author_ct_avg = int_papers_author_ct.groupby('name_x').mean()['name_y']"
   ]
  },
  {
   "cell_type": "code",
   "execution_count": 266,
   "metadata": {},
   "outputs": [],
   "source": [
    "ml4h_avg_authors = df3.groupby('paperNum').count()[['Name_x']]\n",
    "ml4h_avg_authors = ml4h_avg_authors.reset_index()\n",
    "ml4h_int_papers_author_ct = ml4h_int.merge(ml4h_avg_authors, on='paperNum')\n",
    "ml4h_int_papers_author_ct_avg = ml4h_int_papers_author_ct.groupby('Name_x_x').mean()['Name_x_y']"
   ]
  },
  {
   "cell_type": "code",
   "execution_count": 267,
   "metadata": {},
   "outputs": [],
   "source": [
    "combo = pd.DataFrame({'ml4h': ml4h_int_papers_author_ct_avg, 'neurips':int_papers_author_ct_avg})"
   ]
  },
  {
   "cell_type": "code",
   "execution_count": 268,
   "metadata": {},
   "outputs": [
    {
     "data": {
      "text/plain": [
       "Index([u'Adrian Dalca', u'Aniruddh Raghu', u'Bingbin Liu', u'Bo Liu',\n",
       "       u'Caroline Uhler', u'Dimitris Bertsimas', u'Eran Segal',\n",
       "       u'Francesco Locatello', u'Francesco Paolo Casale', u'François Portier',\n",
       "       u'Jennifer Listgarten', u'Jon Kleinberg', u'Jure Leskovec',\n",
       "       u'Maithra Raghu', u'Matthieu Komorowski', u'Mert Sabuncu',\n",
       "       u'Mihaela van der Schaar', u'Nicolo Fusi', u'Thomas B. Schön',\n",
       "       u'Wei-Hung Weng'],\n",
       "      dtype='object', name=u'Name_x_x')"
      ]
     },
     "execution_count": 268,
     "metadata": {},
     "output_type": "execute_result"
    }
   ],
   "source": [
    "ml4h_int_papers_author_ct_avg.index"
   ]
  },
  {
   "cell_type": "code",
   "execution_count": 269,
   "metadata": {},
   "outputs": [],
   "source": [
    "combo['diff'] = combo['ml4h'] - combo['neurips']"
   ]
  },
  {
   "cell_type": "code",
   "execution_count": 270,
   "metadata": {
    "scrolled": true
   },
   "outputs": [
    {
     "name": "stdout",
     "output_type": "stream",
     "text": [
      "0.508333333333\n"
     ]
    },
    {
     "data": {
      "text/plain": [
       "(array([2., 0., 4., 4., 7., 1., 0., 1., 0., 1.]),\n",
       " array([-4. , -2.8, -1.6, -0.4,  0.8,  2. ,  3.2,  4.4,  5.6,  6.8,  8. ]),\n",
       " <a list of 10 Patch objects>)"
      ]
     },
     "execution_count": 270,
     "metadata": {},
     "output_type": "execute_result"
    },
    {
     "data": {
      "image/png": "[encoded data removed]",
      "text/plain": [
       "<Figure size 432x288 with 1 Axes>"
      ]
     },
     "metadata": {},
     "output_type": "display_data"
    }
   ],
   "source": [
    "print combo['diff'].mean()\n",
    "plt.title('ML4H collaborators - Neurips collaborators')\n",
    "plt.hist(combo['diff'])"
   ]
  },
  {
   "cell_type": "code",
   "execution_count": 271,
   "metadata": {},
   "outputs": [
    {
     "name": "stdout",
     "output_type": "stream",
     "text": [
      "Ttest_indResult(statistic=0.8112712450003217, pvalue=0.42226245744700663)\n"
     ]
    }
   ],
   "source": [
    "print ttest_ind(combo['ml4h'], combo['neurips'])"
   ]
  },
  {
   "cell_type": "markdown",
   "metadata": {},
   "source": [
    "# Are there \"all-stars\" in fields?"
   ]
  },
  {
   "cell_type": "code",
   "execution_count": 272,
   "metadata": {},
   "outputs": [
    {
     "name": "stdout",
     "output_type": "stream",
     "text": [
      "1.2228973457\n",
      "1.08074534161\n"
     ]
    }
   ],
   "source": [
    "print neurips_df.groupby('name').count()['paper'].mean()\n",
    "print df3.groupby('Name_x').count()['paperNum'].mean()"
   ]
  },
  {
   "cell_type": "code",
   "execution_count": 273,
   "metadata": {},
   "outputs": [
    {
     "name": "stdout",
     "output_type": "stream",
     "text": [
      "Ttest_indResult(statistic=3.7794960146515133, pvalue=0.00015980531238968997)\n"
     ]
    }
   ],
   "source": [
    "print ttest_ind(neurips_df.groupby('name').count()['paper'], df3.groupby('Name_x').count()['paperNum'])"
   ]
  },
  {
   "cell_type": "code",
   "execution_count": 274,
   "metadata": {},
   "outputs": [
    {
     "data": {
      "image/png": "[encoded data removed]",
      "text/plain": [
       "<Figure size 432x288 with 1 Axes>"
      ]
     },
     "metadata": {},
     "output_type": "display_data"
    }
   ],
   "source": [
    "plt.hist(neurips_df.groupby('name').count()['paper'],label='NeurIPS', density=True, alpha=0.6, bins=range(1,8))\n",
    "plt.hist(df3.groupby('Name_x').count()['paperNum'], label='ML4H', density=True, alpha=0.6, bins=range(1,8))\n",
    "plt.legend()\n",
    "plt.semilogy()\n",
    "plt.show()"
   ]
  },
  {
   "cell_type": "markdown",
   "metadata": {},
   "source": [
    "# Organizations?"
   ]
  },
  {
   "cell_type": "code",
   "execution_count": 275,
   "metadata": {},
   "outputs": [
    {
     "name": "stdout",
     "output_type": "stream",
     "text": [
      "United States     210\n",
      "Canada             35\n",
      "United Kingdom     24\n",
      "Switzerland        12\n",
      "Taiwan             11\n",
      "Singapore           9\n",
      "Brazil              9\n",
      "Japan               7\n",
      "France              7\n",
      "Germany             5\n",
      "Israel              4\n",
      "Belgium             4\n",
      "Italy               4\n",
      "Finland             2\n",
      "South Korea         2\n",
      "Australia           1\n",
      "China               1\n",
      "Sweden              1\n",
      "Name: Country, dtype: int64\n",
      "18\n"
     ]
    }
   ],
   "source": [
    "print df3['Country'].value_counts()\n",
    "print len(df3['Country'].value_counts())"
   ]
  },
  {
   "cell_type": "code",
   "execution_count": 276,
   "metadata": {},
   "outputs": [
    {
     "data": {
      "text/html": [
       "<div>\n",
       "<style scoped>\n",
       "    .dataframe tbody tr th:only-of-type {\n",
       "        vertical-align: middle;\n",
       "    }\n",
       "\n",
       "    .dataframe tbody tr th {\n",
       "        vertical-align: top;\n",
       "    }\n",
       "\n",
       "    .dataframe thead th {\n",
       "        text-align: right;\n",
       "    }\n",
       "</style>\n",
       "<table border=\"1\" class=\"dataframe\">\n",
       "  <thead>\n",
       "    <tr style=\"text-align: right;\">\n",
       "      <th></th>\n",
       "      <th>paperNum</th>\n",
       "      <th>Name_x</th>\n",
       "      <th>Email</th>\n",
       "      <th>Country</th>\n",
       "      <th>Affiliation</th>\n",
       "      <th>Name_y</th>\n",
       "      <th>Title</th>\n",
       "      <th>Decision</th>\n",
       "    </tr>\n",
       "  </thead>\n",
       "  <tbody>\n",
       "    <tr>\n",
       "      <th>0</th>\n",
       "      <td>3</td>\n",
       "      <td>Albert Haque</td>\n",
       "      <td>ahaque@cs.stanford.edu</td>\n",
       "      <td>United States</td>\n",
       "      <td>Stanford University</td>\n",
       "      <td>Albert Haque and Corinna Fukushima</td>\n",
       "      <td>Automatic Documentation of ICD Codes with Far-...</td>\n",
       "      <td>poster</td>\n",
       "    </tr>\n",
       "    <tr>\n",
       "      <th>1</th>\n",
       "      <td>3</td>\n",
       "      <td>Corinna Fukushima</td>\n",
       "      <td>corinna_m_fukushima@rush.edu</td>\n",
       "      <td>United States</td>\n",
       "      <td>Rush University Medical Center</td>\n",
       "      <td>Albert Haque and Corinna Fukushima</td>\n",
       "      <td>Automatic Documentation of ICD Codes with Far-...</td>\n",
       "      <td>poster</td>\n",
       "    </tr>\n",
       "    <tr>\n",
       "      <th>2</th>\n",
       "      <td>4</td>\n",
       "      <td>Luke O'Connor</td>\n",
       "      <td>loconnor@g.harvard.edu</td>\n",
       "      <td>United States</td>\n",
       "      <td>Harvard Chan School of Public Health</td>\n",
       "      <td>Luke O'Connor and Alkes Price</td>\n",
       "      <td>Distinguishing correlation from causation usin...</td>\n",
       "      <td>poster</td>\n",
       "    </tr>\n",
       "    <tr>\n",
       "      <th>3</th>\n",
       "      <td>4</td>\n",
       "      <td>Alkes Price</td>\n",
       "      <td>aprice@hsph.harvard.edu</td>\n",
       "      <td>United States</td>\n",
       "      <td>Harvard Chan School of Public Health</td>\n",
       "      <td>Luke O'Connor and Alkes Price</td>\n",
       "      <td>Distinguishing correlation from causation usin...</td>\n",
       "      <td>poster</td>\n",
       "    </tr>\n",
       "    <tr>\n",
       "      <th>6</th>\n",
       "      <td>7</td>\n",
       "      <td>Viraj Uday Prabhu</td>\n",
       "      <td>virajp@gatech.edu</td>\n",
       "      <td>United States</td>\n",
       "      <td>Georgia Institute of Technology</td>\n",
       "      <td>Viraj Uday Prabhu and Anitha Kannan</td>\n",
       "      <td>Prototypical Clustering Networks for Dermatolo...</td>\n",
       "      <td>poster</td>\n",
       "    </tr>\n",
       "  </tbody>\n",
       "</table>\n",
       "</div>"
      ],
      "text/plain": [
       "   paperNum             Name_x                         Email        Country  \\\n",
       "0         3       Albert Haque        ahaque@cs.stanford.edu  United States   \n",
       "1         3  Corinna Fukushima  corinna_m_fukushima@rush.edu  United States   \n",
       "2         4      Luke O'Connor        loconnor@g.harvard.edu  United States   \n",
       "3         4        Alkes Price       aprice@hsph.harvard.edu  United States   \n",
       "6         7  Viraj Uday Prabhu             virajp@gatech.edu  United States   \n",
       "\n",
       "                            Affiliation                               Name_y  \\\n",
       "0                   Stanford University   Albert Haque and Corinna Fukushima   \n",
       "1        Rush University Medical Center   Albert Haque and Corinna Fukushima   \n",
       "2  Harvard Chan School of Public Health        Luke O'Connor and Alkes Price   \n",
       "3  Harvard Chan School of Public Health        Luke O'Connor and Alkes Price   \n",
       "6       Georgia Institute of Technology  Viraj Uday Prabhu and Anitha Kannan   \n",
       "\n",
       "                                               Title Decision  \n",
       "0  Automatic Documentation of ICD Codes with Far-...   poster  \n",
       "1  Automatic Documentation of ICD Codes with Far-...   poster  \n",
       "2  Distinguishing correlation from causation usin...   poster  \n",
       "3  Distinguishing correlation from causation usin...   poster  \n",
       "6  Prototypical Clustering Networks for Dermatolo...   poster  "
      ]
     },
     "execution_count": 276,
     "metadata": {},
     "output_type": "execute_result"
    }
   ],
   "source": [
    "df3.head()"
   ]
  },
  {
   "cell_type": "code",
   "execution_count": 277,
   "metadata": {},
   "outputs": [
    {
     "name": "stdout",
     "output_type": "stream",
     "text": [
      "Stanford University                                                                                                      27\n",
      "MIT                                                                                                                      15\n",
      "Massachusetts Institute of Technology                                                                                    14\n",
      "Stony Brook University                                                                                                   12\n",
      "University of Toronto                                                                                                    11\n",
      "Stanford                                                                                                                 11\n",
      "UFMG                                                                                                                      9\n",
      "Cambridge Cancer Genomics                                                                                                 7\n",
      "Sage Bionetworks                                                                                                          7\n",
      "Icahn School of Medicine at Mount Sinai                                                                                   7\n",
      "MGH & BWH CCDS                                                                                                            6\n",
      "Institute for Infocomm Research, A*STAR                                                                                   6\n",
      "BenevolentAI                                                                                                              6\n",
      "ETH Zurich                                                                                                                5\n",
      "University of Oxford                                                                                                      5\n",
      "IBM                                                                                                                       5\n",
      "Biomedical Informatics Group, Dept. of Computer Science, ETH Zürich                                                       4\n",
      "MGH Martinos Center for Biomedical Imaging                                                                                4\n",
      "Advanced Analytics, IQVIA Inc.                                                                                            4\n",
      "Department of Systems Design Engineering, University of Waterloo                                                          4\n",
      "National Tsing Hua University                                                                                             4\n",
      "Columbia                                                                                                                  4\n",
      "University of California, Los Angeles                                                                                     4\n",
      "Georgian Partners Inc                                                                                                     4\n",
      "UCSF                                                                                                                      4\n",
      "Osaka University                                                                                                          4\n",
      "Microsoft                                                                                                                 4\n",
      "Rochester Institute of Technology                                                                                         4\n",
      "Petuum Inc.                                                                                                               4\n",
      "Weizmann institute of science                                                                                             4\n",
      "                                                                                                                         ..\n",
      "John A. Paulson School of Engineering and Applied Sciences, Harvard University                                            1\n",
      "St. Michael's Hospital, University of Toronto, Vector Institute, Winterlight Labs                                         1\n",
      "Academia Sinica                                                                                                           1\n",
      "BigBear, Inc.                                                                                                             1\n",
      "Independent                                                                                                               1\n",
      "Far Eastern Memorial Hospital                                                                                             1\n",
      "University of California, Irvine School of Medicine                                                                       1\n",
      "Helmholtz Zentrum München                                                                                                 1\n",
      "DIBRIS - Università di Genova                                                                                             1\n",
      "Philips Research North America                                                                                            1\n",
      "University of Nottingham                                                                                                  1\n",
      "Department of Computer Science/Medicine, University of Toronto;Vector Institute for Artificial Intelligence               1\n",
      "Winterlight Labs; Department of Computer Science, University of Toronto                                                   1\n",
      "Case Western Reserve University/IBM Research                                                                              1\n",
      "ServiceNow                                                                                                                1\n",
      "Electrical and Computer Engineering, UCLA                                                                                 1\n",
      "Yuan Ze University                                                                                                        1\n",
      "ESAT/STADIUS, University of Leuven                                                                                        1\n",
      "California Pacific Medical Center                                                                                         1\n",
      "The University of Edinburgh                                                                                               1\n",
      "Department of Computer Science, University of Toronto; Vector Institute for Artificial Intelligence; Winterlight Labs     1\n",
      "Denison University                                                                                                        1\n",
      "University of Massachusetts - Amherst                                                                                     1\n",
      "Cornell University / USCF                                                                                                 1\n",
      "Department of Computer Science                                                                                            1\n",
      "Aalto University                                                                                                          1\n",
      "Rush University Medical Center                                                                                            1\n",
      "National Institutes of Health Clinical Center                                                                             1\n",
      "Harvard Department of Biomedical Informatics                                                                              1\n",
      "University of Cambridge                                                                                                   1\n",
      "Name: Affiliation, Length: 123, dtype: int64\n",
      "123\n"
     ]
    }
   ],
   "source": [
    "print df3['Affiliation'].value_counts()\n",
    "print len(df3['Affiliation'].value_counts())"
   ]
  },
  {
   "cell_type": "code",
   "execution_count": null,
   "metadata": {},
   "outputs": [],
   "source": []
  }
 ],
 "metadata": {
  "kernelspec": {
   "display_name": "Python 2",
   "language": "python",
   "name": "python2"
  },
  "language_info": {
   "codemirror_mode": {
    "name": "ipython",
    "version": 2
   },
   "file_extension": ".py",
   "mimetype": "text/x-python",
   "name": "python",
   "nbconvert_exporter": "python",
   "pygments_lexer": "ipython2",
   "version": "2.7.10"
  }
 },
 "nbformat": 4,
 "nbformat_minor": 2
}
