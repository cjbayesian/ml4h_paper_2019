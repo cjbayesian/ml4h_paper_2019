{
 "cells": [
  {
   "cell_type": "code",
   "execution_count": 18,
   "metadata": {},
   "outputs": [],
   "source": [
    "from bs4 import BeautifulSoup\n",
    "import requests\n",
    "import json\n",
    "import pandas as pd\n",
    "import re\n",
    "import os"
   ]
  },
  {
   "cell_type": "code",
   "execution_count": 2,
   "metadata": {},
   "outputs": [],
   "source": [
    "proc_url = \"https://sites.google.com/view/med-nips-2018/abstracts\""
   ]
  },
  {
   "cell_type": "code",
   "execution_count": 3,
   "metadata": {},
   "outputs": [],
   "source": [
    "def get_soup(url):\n",
    "    page = requests.get(url, timeout=20)\n",
    "    soup = BeautifulSoup(page.content, \"html.parser\")\n",
    "    return soup"
   ]
  },
  {
   "cell_type": "code",
   "execution_count": 4,
   "metadata": {},
   "outputs": [],
   "source": [
    "proc_content = get_soup(proc_url)"
   ]
  },
  {
   "cell_type": "code",
   "execution_count": 5,
   "metadata": {},
   "outputs": [
    {
     "data": {
      "text/plain": [
       "32"
      ]
     },
     "execution_count": 5,
     "metadata": {},
     "output_type": "execute_result"
    }
   ],
   "source": [
    "paper_links = proc_content.find_all(\"a\", {\"class\": \"dhtgD\"})\n",
    "len(paper_links)"
   ]
  },
  {
   "cell_type": "code",
   "execution_count": 7,
   "metadata": {},
   "outputs": [],
   "source": [
    "papers = []\n",
    "for rl in paper_links:\n",
    "    raw_link = rl['href']\n",
    "    raw_link = raw_link.split('q=')[1].split('&sa')[0]\n",
    "    raw_link = re.sub('%2F','/',raw_link)\n",
    "    raw_link = re.sub('%3A',':',raw_link)\n",
    "    papers.append({'pdf_link': raw_link})"
   ]
  },
  {
   "cell_type": "code",
   "execution_count": 8,
   "metadata": {},
   "outputs": [
    {
     "data": {
      "text/plain": [
       "[{'pdf_link': 'https://www.doc.ic.ac.uk/~bglocker/public/mednips2018/med-nips_2018_paper_3.pdf'},\n",
       " {'pdf_link': 'https://www.doc.ic.ac.uk/~bglocker/public/mednips2018/med-nips_2018_paper_60.pdf'},\n",
       " {'pdf_link': 'https://www.doc.ic.ac.uk/~bglocker/public/mednips2018/med-nips_2018_paper_63.pdf'},\n",
       " {'pdf_link': 'https://www.doc.ic.ac.uk/~bglocker/public/mednips2018/med-nips_2018_paper_70.pdf'},\n",
       " {'pdf_link': 'https://www.doc.ic.ac.uk/~bglocker/public/mednips2018/med-nips_2018_paper_82.pdf'},\n",
       " {'pdf_link': 'https://www.doc.ic.ac.uk/~bglocker/public/mednips2018/med-nips_2018_paper_95.pdf'},\n",
       " {'pdf_link': 'https://www.doc.ic.ac.uk/~bglocker/public/mednips2018/med-nips_2018_paper_19.pdf'},\n",
       " {'pdf_link': 'https://www.doc.ic.ac.uk/~bglocker/public/mednips2018/med-nips_2018_paper_12.pdf'},\n",
       " {'pdf_link': 'https://www.doc.ic.ac.uk/~bglocker/public/mednips2018/med-nips_2018_paper_74.pdf'},\n",
       " {'pdf_link': 'https://www.doc.ic.ac.uk/~bglocker/public/mednips2018/med-nips_2018_paper_61.pdf'}]"
      ]
     },
     "execution_count": 8,
     "metadata": {},
     "output_type": "execute_result"
    }
   ],
   "source": [
    "papers[:10]"
   ]
  },
  {
   "cell_type": "code",
   "execution_count": 19,
   "metadata": {},
   "outputs": [],
   "source": [
    "def download_pdf(paper):\n",
    "    success = True\n",
    "    try:\n",
    "        pdf_url = paper['pdf_link']\n",
    "        file_name = pdf_url.rsplit('/', 1)[-1]\n",
    "        print(file_name)\n",
    "        path = os.path.join('data/med-nips-2018/pdf', file_name)\n",
    "\n",
    "        r = requests.get(pdf_url, allow_redirects=True)\n",
    "        with open(path, 'wb') as f:\n",
    "            f.write(r.content)\n",
    "    except:\n",
    "        success = False\n",
    "    paper['downloaded'] = success"
   ]
  },
  {
   "cell_type": "code",
   "execution_count": 20,
   "metadata": {},
   "outputs": [
    {
     "name": "stdout",
     "output_type": "stream",
     "text": [
      "med-nips_2018_paper_3.pdf\n",
      "med-nips_2018_paper_60.pdf\n",
      "med-nips_2018_paper_63.pdf\n",
      "med-nips_2018_paper_70.pdf\n",
      "med-nips_2018_paper_82.pdf\n",
      "med-nips_2018_paper_95.pdf\n",
      "med-nips_2018_paper_19.pdf\n",
      "med-nips_2018_paper_12.pdf\n",
      "med-nips_2018_paper_74.pdf\n",
      "med-nips_2018_paper_61.pdf\n",
      "med-nips_2018_paper_8.pdf\n",
      "med-nips_2018_paper_38.pdf\n",
      "med-nips_2018_paper_41.pdf\n",
      "med-nips_2018_paper_77.pdf\n",
      "med-nips_2018_paper_106.pdf\n",
      "med-nips_2018_paper_109.pdf\n",
      "med-nips_2018_paper_5.pdf\n",
      "med-nips_2018_paper_107.pdf\n",
      "med-nips_2018_paper_42.pdf\n",
      "med-nips_2018_paper_57.pdf\n",
      "med-nips_2018_paper_26.pdf\n",
      "med-nips_2018_paper_28.pdf\n",
      "med-nips_2018_paper_105.pdf\n",
      "med-nips_2018_paper_90.pdf\n",
      "med-nips_2018_paper_83.pdf\n",
      "med-nips_2018_paper_30.pdf\n",
      "med-nips_2018_paper_54.pdf\n",
      "med-nips_2018_paper_18.pdf\n",
      "med-nips_2018_paper_85.pdf\n",
      "med-nips_2018_paper_56.pdf\n",
      "med-nips_2018_paper_11.pdf\n",
      "med-nips_2018_paper_67.pdf\n"
     ]
    }
   ],
   "source": [
    "for p in papers:\n",
    "    download_pdf(p)"
   ]
  },
  {
   "cell_type": "code",
   "execution_count": 22,
   "metadata": {},
   "outputs": [
    {
     "data": {
      "text/plain": [
       "[]"
      ]
     },
     "execution_count": 22,
     "metadata": {},
     "output_type": "execute_result"
    }
   ],
   "source": [
    "[p for p in papers if not p.get('downloaded',False)]"
   ]
  },
  {
   "cell_type": "code",
   "execution_count": null,
   "metadata": {},
   "outputs": [],
   "source": []
  }
 ],
 "metadata": {
  "kernelspec": {
   "display_name": "Python 3",
   "language": "python",
   "name": "python3"
  },
  "language_info": {
   "codemirror_mode": {
    "name": "ipython",
    "version": 3
   },
   "file_extension": ".py",
   "mimetype": "text/x-python",
   "name": "python",
   "nbconvert_exporter": "python",
   "pygments_lexer": "ipython3",
   "version": "3.7.2"
  }
 },
 "nbformat": 4,
 "nbformat_minor": 2
}
