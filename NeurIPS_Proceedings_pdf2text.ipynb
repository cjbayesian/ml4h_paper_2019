{
 "cells": [
  {
   "cell_type": "code",
   "execution_count": 1,
   "metadata": {},
   "outputs": [],
   "source": [
    "import os\n",
    "import subprocess"
   ]
  },
  {
   "cell_type": "code",
   "execution_count": 2,
   "metadata": {},
   "outputs": [
    {
     "data": {
      "text/plain": [
       "1009"
      ]
     },
     "execution_count": 2,
     "metadata": {},
     "output_type": "execute_result"
    }
   ],
   "source": [
    "fnames = [f for f in os.listdir('./pdfs') if f.endswith('.pdf')]\n",
    "txt_names = [f for f in os.listdir('./txts') if f.endswith('.txt')]\n",
    "\n",
    "f_roots = [f[:-4] for f in fnames]\n",
    "t_roots = [f[:-4] for f in txt_names]\n",
    "f_roots = list(set(f_roots) - set(t_roots))\n",
    "fnames = [f+'.pdf' for f in f_roots]\n",
    "fnames = [f for f in fnames if os.stat('./pdfs/'+f).st_size>0]\n",
    "len(fnames)"
   ]
  },
  {
   "cell_type": "code",
   "execution_count": 3,
   "metadata": {},
   "outputs": [
    {
     "name": "stdout",
     "output_type": "stream",
     "text": [
      "0% complete\n",
      "10% complete\n",
      "20% complete\n",
      "30% complete\n",
      "40% complete\n",
      "50% complete\n",
      "59% complete\n",
      "69% complete\n",
      "79% complete\n",
      "89% complete\n",
      "99% complete\n"
     ]
    }
   ],
   "source": [
    "n_files = len(fnames)\n",
    "for i,f in enumerate(fnames):\n",
    "    if (i % int(n_files/10)) == 0:\n",
    "        print(\"{0:.0%} complete\".format(i/n_files))\n",
    "    bashCommand = 'pdftotext pdfs/'+ f + ' txts/' + f[:-4] + '.txt'\n",
    "    process = subprocess.Popen(bashCommand.split(), stdout=subprocess.PIPE)\n",
    "    output, error = process.communicate()"
   ]
  },
  {
   "cell_type": "code",
   "execution_count": null,
   "metadata": {},
   "outputs": [],
   "source": []
  }
 ],
 "metadata": {
  "kernelspec": {
   "display_name": "Python 3",
   "language": "python",
   "name": "python3"
  },
  "language_info": {
   "codemirror_mode": {
    "name": "ipython",
    "version": 3
   },
   "file_extension": ".py",
   "mimetype": "text/x-python",
   "name": "python",
   "nbconvert_exporter": "python",
   "pygments_lexer": "ipython3",
   "version": "3.7.2"
  }
 },
 "nbformat": 4,
 "nbformat_minor": 2
}
